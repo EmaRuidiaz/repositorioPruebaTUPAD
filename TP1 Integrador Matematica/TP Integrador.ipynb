{
 "cells": [
  {
   "cell_type": "markdown",
   "metadata": {},
   "source": [
    "TRABAJO INTEGRADOR 1 - MATEMÁTICA"
   ]
  },
  {
   "cell_type": "code",
   "execution_count": 8,
   "metadata": {},
   "outputs": [
    {
     "name": "stdout",
     "output_type": "stream",
     "text": [
      "Ingrese la contraseña para finalizar la configuración:\n",
      "Configuración finalizada\n",
      "Ingrese su contraseña\n",
      "La ventana está abierta? 1-Si 2-No\n",
      "ALARMA SONANDO! PELIGRO! LLAMANDO AL 911!\n"
     ]
    }
   ],
   "source": [
    "password = input(print(\"Ingrese la contraseña para finalizar la configuración:\"))\n",
    "print(\"Configuración finalizada\")\n",
    "sonarAlarma = True\n",
    "passIngresada = input(print(\"Ingrese su contraseña\"))\n",
    "if passIngresada == password:\n",
    "    ventanaAbierta = input(print(\"La ventana está abierta? 1-Si 2-No\"))\n",
    "    if ventanaAbierta == \"2\":\n",
    "        detectaMovimiento = input(print(\"El sensor detecta movimiento? 1-Si 2-No\"))\n",
    "        if detectaMovimiento == \"2\":\n",
    "            sonarAlarma = False\n",
    "            print(\"Puede ingresar a su casa. No sonará la alarma\")\n",
    "\n",
    "if sonarAlarma:\n",
    "    print(\"ALARMA SONANDO! PELIGRO! LLAMANDO AL 911!\")\n"
   ]
  },
  {
   "cell_type": "code",
   "execution_count": 6,
   "metadata": {},
   "outputs": [
    {
     "name": "stdout",
     "output_type": "stream",
     "text": [
      "Ingrese la contraseña para finalizar la configuración:\n",
      "Configuración finalizada\n",
      "Ingrese su contraseña\n",
      "La ventana está abierta? 1-Si 2-No\n",
      "El sensor detecta movimiento? 1-Si 2-No\n",
      "ALARMA SONANDO! PELIGRO! LLAMANDO AL 911!\n"
     ]
    }
   ],
   "source": [
    "password = input(print(\"Ingrese la contraseña para finalizar la configuración:\"))\n",
    "print(\"Configuración finalizada\")\n",
    "passIngresada = input(print(\"Ingrese su contraseña\"))\n",
    "ventanaAbierta = input(print(\"La ventana está abierta? 1-Si 2-No\"))\n",
    "detectaMovimiento = input(print(\"El sensor detecta movimiento? 1-Si 2-No\"))\n",
    "\n",
    "if (passIngresada != password) or (ventanaAbierta == \"1\") or (detectaMovimiento == \"1\"):\n",
    "    print(\"ALARMA SONANDO! PELIGRO! LLAMANDO AL 911!\")\n",
    "else:\n",
    "    print(\"Puede ingresar a su casa. No sonará la alarma\")\n"
   ]
  }
 ],
 "metadata": {
  "kernelspec": {
   "display_name": "Python 3",
   "language": "python",
   "name": "python3"
  },
  "language_info": {
   "codemirror_mode": {
    "name": "ipython",
    "version": 3
   },
   "file_extension": ".py",
   "mimetype": "text/x-python",
   "name": "python",
   "nbconvert_exporter": "python",
   "pygments_lexer": "ipython3",
   "version": "3.13.2"
  }
 },
 "nbformat": 4,
 "nbformat_minor": 2
}
