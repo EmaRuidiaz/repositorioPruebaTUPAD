{
 "cells": [
  {
   "cell_type": "markdown",
   "id": "709fc05a",
   "metadata": {},
   "source": [
    "Práctico 7: Estructuras de datos complejas"
   ]
  },
  {
   "cell_type": "code",
   "execution_count": 1,
   "id": "7dfe6bf5",
   "metadata": {},
   "outputs": [
    {
     "name": "stdout",
     "output_type": "stream",
     "text": [
      "{'Banana': 1200, 'Ananá': 2500, 'Melón': 3000, 'Uva': 1450, 'Naranja': 1200, 'Manzana': 1500, 'Pera': 2300}\n"
     ]
    }
   ],
   "source": [
    "# Ejercicio 1\n",
    "precios_frutas = {'Banana': 1200, 'Ananá': 2500, 'Melón': 3000, 'Uva': 1450}\n",
    "\n",
    "precios_frutas['Naranja'] = 1200\n",
    "precios_frutas['Manzana'] = 1500\n",
    "precios_frutas['Pera'] = 2300\n",
    "\n",
    "print(precios_frutas)"
   ]
  },
  {
   "cell_type": "code",
   "execution_count": null,
   "id": "d345143d",
   "metadata": {},
   "outputs": [
    {
     "name": "stdout",
     "output_type": "stream",
     "text": [
      "{'Banana': 1330, 'Ananá': 2500, 'Melón': 2800, 'Uva': 1450, 'Naranja': 1200, 'Manzana': 1700, 'Pera': 2300}\n"
     ]
    }
   ],
   "source": [
    "# Ejercicio 2\n",
    "precios_frutas['Banana'] = 1330\n",
    "precios_frutas['Manzana'] = 1700\n",
    "precios_frutas['Melón'] = 2800\n",
    "\n",
    "# Mostrar el diccionario actualizado (opcional)\n",
    "print(precios_frutas)"
   ]
  },
  {
   "cell_type": "code",
   "execution_count": 5,
   "id": "a8d3e5c3",
   "metadata": {},
   "outputs": [
    {
     "name": "stdout",
     "output_type": "stream",
     "text": [
      "['Banana', 'Ananá', 'Melón', 'Uva', 'Naranja', 'Manzana', 'Pera']\n"
     ]
    }
   ],
   "source": [
    "# Ejercicio 3\n",
    "frutas = list(precios_frutas.keys())\n",
    "\n",
    "print(frutas)"
   ]
  },
  {
   "cell_type": "code",
   "execution_count": 6,
   "id": "c782a220",
   "metadata": {},
   "outputs": [
    {
     "name": "stdout",
     "output_type": "stream",
     "text": [
      "El número de Emanuel es: 123123\n"
     ]
    }
   ],
   "source": [
    "# Ejercicio 4\n",
    "contactos = {}\n",
    "\n",
    "for i in range(5):\n",
    "    nombre = input(f\"Ingrese el nombre del contacto {i+1}: \")\n",
    "    numero = input(f\"Ingrese el número de {nombre}: \")\n",
    "    contactos[nombre] = numero\n",
    "\n",
    "nombre_consultar = input(\"Ingrese el nombre del contacto a buscar: \")\n",
    "\n",
    "if nombre_consultar in contactos:\n",
    "    print(f\"El número de {nombre_consultar} es: {contactos[nombre_consultar]}\")\n",
    "else:\n",
    "    print(f\"{nombre_consultar} no se encuentra en la lista de contactos.\")"
   ]
  },
  {
   "cell_type": "code",
   "execution_count": 7,
   "id": "a998b89a",
   "metadata": {},
   "outputs": [
    {
     "name": "stdout",
     "output_type": "stream",
     "text": [
      "Palabras únicas: {'no', 'caminata', 'una', 'hizo', 'soporto', 'Pero', 'Juan', 'latgo,', 'vez'}\n",
      "Frecuencia de cada palabra: {'Juan': 2, 'una': 2, 'vez': 1, 'hizo': 1, 'caminata': 1, 'latgo,': 1, 'Pero': 1, 'no': 1, 'soporto': 1}\n"
     ]
    }
   ],
   "source": [
    "# Ejercicio 5\n",
    "frase = input(\"Ingrese una frase: \")\n",
    "palabras = frase.split()\n",
    "palabras_unicas = set(palabras)\n",
    "\n",
    "frecuencias = {}\n",
    "for palabra in palabras:\n",
    "    if palabra in frecuencias:\n",
    "        frecuencias[palabra] += 1\n",
    "    else:\n",
    "        frecuencias[palabra] = 1\n",
    "\n",
    "print(\"Palabras únicas:\", palabras_unicas)\n",
    "\n",
    "print(\"Frecuencia de cada palabra:\", frecuencias)"
   ]
  },
  {
   "cell_type": "code",
   "execution_count": 8,
   "id": "2cd01eb3",
   "metadata": {},
   "outputs": [
    {
     "name": "stdout",
     "output_type": "stream",
     "text": [
      "El promedio de Ema es: 6.33\n",
      "El promedio de Glen es: 8.67\n",
      "El promedio de Juan es: 5.67\n"
     ]
    }
   ],
   "source": [
    "# Ejercicio 6\n",
    "notas_alumnos = {}\n",
    "\n",
    "# Ingresar los datos de los 3 alumnos\n",
    "for i in range(3):\n",
    "    nombre = input(f\"Ingrese el nombre del alumno {i+1}: \")\n",
    "    # Ingresar las 3 notas y almacenarlas en una tupla\n",
    "    notas = (\n",
    "        float(input(f\"Ingrese la nota 1 de {nombre}: \")),\n",
    "        float(input(f\"Ingrese la nota 2 de {nombre}: \")),\n",
    "        float(input(f\"Ingrese la nota 3 de {nombre}: \"))\n",
    "    )\n",
    "    notas_alumnos[nombre] = notas\n",
    "\n",
    "# Mostrar el promedio de cada alumno\n",
    "for alumno, notas in notas_alumnos.items():\n",
    "    promedio = sum(notas) / 3\n",
    "    print(f\"El promedio de {alumno} es: {promedio:.2f}\")"
   ]
  },
  {
   "cell_type": "code",
   "execution_count": 9,
   "id": "cb3c373c",
   "metadata": {},
   "outputs": [
    {
     "name": "stdout",
     "output_type": "stream",
     "text": [
      "Aprobaron ambos parciales: {'Sofía', 'Luis'}\n",
      "Aprobaron solo uno de los parciales: {'Carlos', 'Mario', 'Pedro', 'Ana'}\n",
      "Estudiantes que aprobaron al menos un parcial: {'Pedro', 'Luis', 'Mario', 'Carlos', 'Sofía', 'Ana'}\n"
     ]
    }
   ],
   "source": [
    "# Ejercicio 7\n",
    "parcial1 = {\"Ana\", \"Luis\", \"Sofía\", \"Mario\"}\n",
    "parcial2 = {\"Luis\", \"Carlos\", \"Sofía\", \"Pedro\"}\n",
    "\n",
    "# Estudiantes que aprobaron ambos parciales\n",
    "ambos = parcial1 & parcial2\n",
    "print(\"Aprobaron ambos parciales:\", ambos)\n",
    "\n",
    "# Estudiantes que aprobaron solo uno de los dos\n",
    "solo_uno = (parcial1 ^ parcial2)\n",
    "print(\"Aprobaron solo uno de los parciales:\", solo_uno)\n",
    "\n",
    "# Lista total de estudiantes que aprobaron al menos uno\n",
    "al_menos_uno = parcial1 | parcial2\n",
    "print(\"Estudiantes que aprobaron al menos un parcial:\", al_menos_uno)"
   ]
  },
  {
   "cell_type": "code",
   "execution_count": 12,
   "id": "39acc0d3",
   "metadata": {},
   "outputs": [
    {
     "name": "stdout",
     "output_type": "stream",
     "text": [
      "\n",
      "Opciones:\n",
      "1. Consultar stock\n",
      "2. Agregar unidades\n",
      "3. Agregar nuevo producto\n",
      "4. Salir\n",
      "El stock de Leche es: 20\n",
      "\n",
      "Opciones:\n",
      "1. Consultar stock\n",
      "2. Agregar unidades\n",
      "3. Agregar nuevo producto\n",
      "4. Salir\n",
      "sal no existe en el inventario.\n",
      "\n",
      "Opciones:\n",
      "1. Consultar stock\n",
      "2. Agregar unidades\n",
      "3. Agregar nuevo producto\n",
      "4. Salir\n",
      "Sal no existe. Puede agregarlo como nuevo producto.\n",
      "\n",
      "Opciones:\n",
      "1. Consultar stock\n",
      "2. Agregar unidades\n",
      "3. Agregar nuevo producto\n",
      "4. Salir\n",
      "Producto Sal agregado con stock 20.\n",
      "\n",
      "Opciones:\n",
      "1. Consultar stock\n",
      "2. Agregar unidades\n",
      "3. Agregar nuevo producto\n",
      "4. Salir\n",
      "El stock de Sal es: 20\n",
      "\n",
      "Opciones:\n",
      "1. Consultar stock\n",
      "2. Agregar unidades\n",
      "3. Agregar nuevo producto\n",
      "4. Salir\n",
      "Saliendo...\n"
     ]
    }
   ],
   "source": [
    "# Ejercicio 8\n",
    "\n",
    "# Stock inicial\n",
    "stock_productos = {\n",
    "    \"Café\": 50,\n",
    "    \"Azúcar\": 30,\n",
    "    \"Leche\": 20\n",
    "}\n",
    "\n",
    "# Consultar stock por producto\n",
    "def consultar_stock(productos, nombre):\n",
    "    stock = productos.get(nombre)\n",
    "    if stock is not None:\n",
    "        print(f\"El stock de {nombre} es: {stock}\")\n",
    "    else:\n",
    "        print(f\"{nombre} no existe en el inventario.\")\n",
    "\n",
    "# Actualizar stock\n",
    "def agregar_unidades(productos, nombre, unidades):\n",
    "    if nombre in productos:\n",
    "        productos[nombre] += unidades\n",
    "        print(f\"Se agregaron {unidades} unidades. Nuevo stock de {nombre}: {productos[nombre]}\")\n",
    "    else:\n",
    "        print(f\"{nombre} no existe. Puede agregarlo como nuevo producto.\")\n",
    "\n",
    "# Agregar producto nuevo\n",
    "def agregar_producto(productos, nombre, stock_inicial):\n",
    "    if nombre in productos:\n",
    "        print(\"El producto ya existe. Puede agregar unidades en su opción correspondiente.\")\n",
    "    else:\n",
    "        productos[nombre] = stock_inicial\n",
    "        print(f\"Producto {nombre} agregado con stock {stock_inicial}.\")\n",
    "\n",
    "# Menu principal\n",
    "def menu():\n",
    "    while True:\n",
    "        print(\"\\nOpciones:\\n1. Consultar stock\\n2. Agregar unidades\\n3. Agregar nuevo producto\\n4. Salir\")\n",
    "        opcion = input(\"Seleccione una opción (1-4): \")\n",
    "\n",
    "        match opcion:\n",
    "            case \"1\":\n",
    "                nombre = input(\"Ingrese el nombre del producto a consultar: \")\n",
    "                consultar_stock(stock_productos, nombre)\n",
    "            case \"2\":\n",
    "                nombre = input(\"Ingrese el nombre del producto a agregar unidades: \")\n",
    "                unidades = int(input(\"Ingrese las unidades a agregar: \"))\n",
    "                agregar_unidades(stock_productos, nombre, unidades)\n",
    "            case \"3\":\n",
    "                nombre = input(\"Ingrese el nombre del nuevo producto: \")\n",
    "                stock_inicial = int(input(\"Ingrese el stock inicial: \"))\n",
    "                agregar_producto(stock_productos, nombre, stock_inicial)\n",
    "            case \"4\":\n",
    "                print(\"Saliendo...\")\n",
    "                break\n",
    "            case _:\n",
    "                print(\"Opción no válida. Intente nuevamente.\")\n",
    "\n",
    "# Ejecuta el menú\n",
    "menu()"
   ]
  },
  {
   "cell_type": "code",
   "execution_count": 13,
   "id": "7d39e153",
   "metadata": {},
   "outputs": [
    {
     "name": "stdout",
     "output_type": "stream",
     "text": [
      "No hay eventos programados en Lunes a las 8.\n"
     ]
    }
   ],
   "source": [
    "# Ejercicio 9\n",
    "agenda = {\n",
    "    (\"Lunes\", \"10:00\"): \"Reunión de trabajo\",\n",
    "    (\"Lunes\", \"14:00\"): \"Clase de yoga\",\n",
    "    (\"Martes\", \"09:00\"): \"Entrega de proyecto\",\n",
    "    (\"Miércoles\", \"12:30\"): \"Almuerzo con amigos\"\n",
    "}\n",
    "\n",
    "def consultar_evento(dia, hora):\n",
    "    \"\"\"Consulta qué evento hay en un día y hora específicos.\"\"\"\n",
    "    evento = agenda.get((dia, hora))\n",
    "    if evento:\n",
    "        print(f\"El evento en {dia} a las {hora} es: {evento}\")\n",
    "    else:\n",
    "        print(f\"No hay eventos programados en {dia} a las {hora}.\")\n",
    "\n",
    "dia_consulta = input(\"Ingrese el día (p.ej., 'Lunes'): \")\n",
    "hora_consulta = input(\"Ingrese la hora (p.ej., '10:00'): \")\n",
    "consultar_evento(dia_consulta, hora_consulta)"
   ]
  },
  {
   "cell_type": "code",
   "execution_count": null,
   "id": "b2490a1f",
   "metadata": {},
   "outputs": [
    {
     "name": "stdout",
     "output_type": "stream",
     "text": [
      "{'Buenos Aires': 'Argentina', 'Brasilia': 'Brasil', 'Santiago': 'Chile', 'Montevideo': 'Uruguay'}\n"
     ]
    }
   ],
   "source": [
    "# Ejercicio 10\n",
    "\n",
    "paises_capitales = {\n",
    "    \"Argentina\": \"Buenos Aires\",\n",
    "    \"Brasil\": \"Brasilia\",\n",
    "    \"Chile\": \"Santiago\",\n",
    "    \"Uruguay\": \"Montevideo\"\n",
    "}\n",
    "\n",
    "# Crear un nuevo diccionario invertido\n",
    "capitales_paises = {capital: pais for pais, capital in paises_capitales.items()}\n",
    "\n",
    "print(capitales_paises)"
   ]
  }
 ],
 "metadata": {
  "kernelspec": {
   "display_name": "Python 3",
   "language": "python",
   "name": "python3"
  },
  "language_info": {
   "codemirror_mode": {
    "name": "ipython",
    "version": 3
   },
   "file_extension": ".py",
   "mimetype": "text/x-python",
   "name": "python",
   "nbconvert_exporter": "python",
   "pygments_lexer": "ipython3",
   "version": "3.13.2"
  }
 },
 "nbformat": 4,
 "nbformat_minor": 5
}
