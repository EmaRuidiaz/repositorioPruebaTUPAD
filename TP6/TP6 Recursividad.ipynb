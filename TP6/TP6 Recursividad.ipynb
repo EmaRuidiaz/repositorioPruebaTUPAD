{
 "cells": [
  {
   "cell_type": "markdown",
   "id": "46125e16",
   "metadata": {},
   "source": [
    "Práctico 6: Aplicación de la Recursividad "
   ]
  },
  {
   "cell_type": "code",
   "execution_count": 10,
   "id": "3d80b9d9",
   "metadata": {},
   "outputs": [
    {
     "name": "stdout",
     "output_type": "stream",
     "text": [
      "10! es: 3628800\n",
      "9! es: 362880\n",
      "8! es: 40320\n",
      "7! es: 5040\n",
      "6! es: 720\n",
      "5! es: 120\n",
      "4! es: 24\n",
      "3! es: 6\n",
      "2! es: 2\n",
      "1! es: 1\n"
     ]
    },
    {
     "data": {
      "text/plain": [
       "1"
      ]
     },
     "execution_count": 10,
     "metadata": {},
     "output_type": "execute_result"
    }
   ],
   "source": [
    "# Ejercicio 1\n",
    "def factorial(num):\n",
    "    if num == 0:\n",
    "        return 1\n",
    "    else:\n",
    "        return factorial(num-1) * num\n",
    "\n",
    "def print_factoriales(numero):\n",
    "    if numero == 1:\n",
    "        print(f\"{numero}! es: {1}\")\n",
    "        return 1\n",
    "    else:\n",
    "        aux = factorial(numero)\n",
    "        print(f\"{numero}! es: {aux}\")\n",
    "        return print_factoriales(numero-1)\n",
    "    \n",
    "numero = int(input(\"Ingrese un numero natural\"))\n",
    "print_factoriales(numero)"
   ]
  },
  {
   "cell_type": "code",
   "execution_count": 1,
   "id": "39d2fb9b",
   "metadata": {},
   "outputs": [
    {
     "name": "stdout",
     "output_type": "stream",
     "text": [
      "Valor en la posición 10: 55\n",
      "Serie completa hasta esa posición: [0, 1, 1, 2, 3, 5, 8, 13, 21, 34, 55]\n"
     ]
    }
   ],
   "source": [
    "# Ejercicio 2\n",
    "def calcular_fibonacci(n):\n",
    "    if n <= 1:\n",
    "        return n\n",
    "    else:\n",
    "        return calcular_fibonacci(n - 1) + calcular_fibonacci(n - 2)\n",
    "\n",
    "def mostrar_serie(n):\n",
    "    serie = []\n",
    "    for i in range(n + 1):\n",
    "        serie.append(calcular_fibonacci(i))\n",
    "    return serie\n",
    "\n",
    "posicion = int(input(\"Ingrese la posición de la serie de Fibonacci que desea calcular: \"))\n",
    "valor = calcular_fibonacci(posicion)\n",
    "print(f\"Valor en la posición {posicion}: {valor}\")\n",
    "\n",
    "serie_completa = mostrar_serie(posicion)\n",
    "print(\"Serie completa hasta esa posición:\", serie_completa)\n"
   ]
  },
  {
   "cell_type": "code",
   "execution_count": 2,
   "id": "b5cad8d9",
   "metadata": {},
   "outputs": [
    {
     "name": "stdout",
     "output_type": "stream",
     "text": [
      "10 elevado a la potencia 5 es: 100000\n"
     ]
    }
   ],
   "source": [
    "# Ejercicio 3\n",
    "def potencia_recursiva(base, exponente):\n",
    "    if exponente == 0:\n",
    "        return 1\n",
    "    else:\n",
    "        return base * potencia_recursiva(base, exponente - 1)\n",
    "\n",
    "base = int(input(\"Ingrese la base: \"))\n",
    "exponente = int(input(\"Ingrese el exponente: \"))\n",
    "\n",
    "resultado = potencia_recursiva(base, exponente)\n",
    "print(f\"{base} elevado a la potencia {exponente} es: {resultado}\")"
   ]
  },
  {
   "cell_type": "code",
   "execution_count": 3,
   "id": "852105ca",
   "metadata": {},
   "outputs": [
    {
     "name": "stdout",
     "output_type": "stream",
     "text": [
      "El número 5 en binario es: 101\n"
     ]
    }
   ],
   "source": [
    "# Ejercicio 4\n",
    "def decimal_a_binario(n):\n",
    "    if n == 0:\n",
    "        return \"0\"\n",
    "    elif n == 1:\n",
    "        return \"1\"\n",
    "    else:\n",
    "        resultado_parcial = decimal_a_binario(n // 2)\n",
    "        return resultado_parcial + str(n % 2)\n",
    "\n",
    "numero = int(input(\"Ingrese un número entero positivo: \"))\n",
    "binario = decimal_a_binario(numero)\n",
    "print(f\"El número {numero} en binario es: {binario}\")"
   ]
  },
  {
   "cell_type": "code",
   "execution_count": 5,
   "id": "b1f0d19b",
   "metadata": {},
   "outputs": [
    {
     "name": "stdout",
     "output_type": "stream",
     "text": [
      "Es un palíndromo.\n"
     ]
    }
   ],
   "source": [
    "# Ejercicio 5\n",
    "def es_palindromo(palabra):\n",
    "    if len(palabra) <= 1:\n",
    "        return True\n",
    "    if palabra[0] == palabra[-1]:\n",
    "        return es_palindromo(palabra[1:-1])\n",
    "    else:\n",
    "        return False\n",
    "\n",
    "texto = input(\"Ingrese una palabra sin espacios ni tildes: \").lower()\n",
    "if es_palindromo(texto):\n",
    "    print(\"Es un palíndromo.\")\n",
    "else:\n",
    "    print(\"No es un palíndromo.\")"
   ]
  },
  {
   "cell_type": "code",
   "execution_count": 6,
   "id": "a24dbd3c",
   "metadata": {},
   "outputs": [
    {
     "name": "stdout",
     "output_type": "stream",
     "text": [
      "La suma de los dígitos de 951 es: 15\n"
     ]
    }
   ],
   "source": [
    "# Ejercicio 6\n",
    "def suma_digitos(n):\n",
    "    if n < 10:\n",
    "        return n\n",
    "    else:\n",
    "        return (n % 10) + suma_digitos(n // 10)\n",
    "\n",
    "numero = int(input(\"Ingrese un número entero positivo: \"))\n",
    "resultado = suma_digitos(numero)\n",
    "print(f\"La suma de los dígitos de {numero} es: {resultado}\")\n"
   ]
  },
  {
   "cell_type": "code",
   "execution_count": 8,
   "id": "c2a26a97",
   "metadata": {},
   "outputs": [
    {
     "name": "stdout",
     "output_type": "stream",
     "text": [
      "El total de bloques necesarios para construir la pirámide es: 210\n"
     ]
    }
   ],
   "source": [
    "# Ejercicio 7\n",
    "def contar_bloques(n):\n",
    "    if n == 1:\n",
    "        return 1\n",
    "    else:\n",
    "        return n + contar_bloques(n - 1)\n",
    "\n",
    "base = int(input(\"Ingrese el número de bloques en el nivel más bajo: \"))\n",
    "total_bloques = contar_bloques(base)\n",
    "print(f\"El total de bloques necesarios para construir la pirámide es: {total_bloques}\")"
   ]
  },
  {
   "cell_type": "code",
   "execution_count": 9,
   "id": "526d5895",
   "metadata": {},
   "outputs": [
    {
     "name": "stdout",
     "output_type": "stream",
     "text": [
      "El dígito 5 aparece 6 veces en el número 1251351651851951745.\n"
     ]
    }
   ],
   "source": [
    "# Ejercicio 8\n",
    "def contar_digito(numero, digito):\n",
    "    if numero == 0:\n",
    "        return 0\n",
    "    ult_digito = numero % 10\n",
    "    if ult_digito == digito:\n",
    "        return 1 + contar_digito(numero // 10, digito)\n",
    "    else:\n",
    "        return contar_digito(numero // 10, digito)\n",
    "\n",
    "num = int(input(\"Ingrese un número entero positivo: \"))\n",
    "d = int(input(\"Ingrese el dígito a contar (0-9): \"))\n",
    "resultado = contar_digito(num, d)\n",
    "print(f\"El dígito {d} aparece {resultado} veces en el número {num}.\")"
   ]
  }
 ],
 "metadata": {
  "kernelspec": {
   "display_name": "Python 3",
   "language": "python",
   "name": "python3"
  },
  "language_info": {
   "codemirror_mode": {
    "name": "ipython",
    "version": 3
   },
   "file_extension": ".py",
   "mimetype": "text/x-python",
   "name": "python",
   "nbconvert_exporter": "python",
   "pygments_lexer": "ipython3",
   "version": "3.13.2"
  }
 },
 "nbformat": 4,
 "nbformat_minor": 5
}
