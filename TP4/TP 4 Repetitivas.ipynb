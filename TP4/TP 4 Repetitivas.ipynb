{
 "cells": [
  {
   "cell_type": "markdown",
   "metadata": {},
   "source": [
    "TRABAJO PRÁCTICO 4 - ESTRUCTURAS REPETITIVAS"
   ]
  },
  {
   "cell_type": "code",
   "execution_count": null,
   "metadata": {},
   "outputs": [],
   "source": [
    "#Ejercicio 1\n",
    "for i in range(101):\n",
    "    print(i)"
   ]
  },
  {
   "cell_type": "code",
   "execution_count": null,
   "metadata": {},
   "outputs": [],
   "source": [
    "#Ejercicio 2\n",
    "op = input(print(\"Desea ingresar un numero? 1. SI 2. NO\"))\n",
    "while op != \"2\":\n",
    "    numero = int(input(print(\"Ingrese un numero entero\")))\n",
    "    print(len(str(numero)))\n",
    "    op = input(print(\"Desea ingresar un numero? 1. SI 2. NO\"))"
   ]
  },
  {
   "cell_type": "code",
   "execution_count": null,
   "metadata": {},
   "outputs": [],
   "source": [
    "#Ejercicio 3\n",
    "cotaInferior = int(input(print(\"Ingrese una cota inferior\")))\n",
    "cotaSuperior = int(input(print(\"Ingrese una cota superior\")))\n",
    "for i in range(cotaInferior+1, cotaSuperior):\n",
    "    print(i)"
   ]
  },
  {
   "cell_type": "code",
   "execution_count": null,
   "metadata": {},
   "outputs": [],
   "source": [
    "#Ejercicio 4\n",
    "numero = int(input(print(\"Ingrese un numero. 0 para finalizar\")))\n",
    "acumulador = 0\n",
    "while numero != 0:\n",
    "    acumulador += numero\n",
    "    numero = int(input(print(\"Ingrese un numero. 0 para finalizar\")))\n",
    "print(f\"El total acumulado es {acumulador}.\")"
   ]
  },
  {
   "cell_type": "code",
   "execution_count": 1,
   "metadata": {},
   "outputs": [
    {
     "name": "stdout",
     "output_type": "stream",
     "text": [
      "Juego de la adivinanza! Número ganador: 9\n",
      "Ingrese un numero entre 0 y 9\n",
      "Ingrese un numero entre 0 y 9\n",
      "Ingrese un numero entre 0 y 9\n",
      "Ingrese un numero entre 0 y 9\n",
      "Has adivinado!\n",
      "Lo has acertado en 4 intentos.\n"
     ]
    }
   ],
   "source": [
    "#Ejercicio 5\n",
    "import random\n",
    "\n",
    "intentos = 0\n",
    "numeroGanador = random.randint(0, 9)\n",
    "print(f\"Juego de la adivinanza! Número ganador: {numeroGanador}\")\n",
    "hasAdivinado = False\n",
    "\n",
    "\n",
    "while not hasAdivinado:\n",
    "    numeroIngresado = int(input(print(\"Ingrese un numero entre 0 y 9\")))\n",
    "    intentos += 1\n",
    "    if numeroIngresado < 0:\n",
    "        print(\"Debe ser mayor a 0\")\n",
    "    elif numeroIngresado > 10:\n",
    "        print(\"Debe ser menor a 10\")\n",
    "    elif numeroIngresado == numeroGanador:\n",
    "        print(\"Has adivinado!\")\n",
    "        hasAdivinado = True\n",
    "print(f\"Lo has acertado en {intentos} intentos.\")"
   ]
  },
  {
   "cell_type": "code",
   "execution_count": null,
   "metadata": {},
   "outputs": [],
   "source": [
    "#Ejercicio 6\n",
    "for x in range(100, 0, -2):\n",
    "    print(x)"
   ]
  },
  {
   "cell_type": "code",
   "execution_count": 10,
   "metadata": {},
   "outputs": [
    {
     "name": "stdout",
     "output_type": "stream",
     "text": [
      "Ingrese un numero positivo\n",
      "La suma total es: 45.\n"
     ]
    }
   ],
   "source": [
    "#Ejercicio 7\n",
    "cota_superior = int(input(print(\"Ingrese un numero positivo\")))\n",
    "suma = 0\n",
    "for x in range(cota_superior):\n",
    "    suma += x\n",
    "print(f\"La suma total es: {suma}.\")"
   ]
  },
  {
   "cell_type": "code",
   "execution_count": null,
   "metadata": {},
   "outputs": [
    {
     "name": "stdout",
     "output_type": "stream",
     "text": [
      "Ingrese un numero entero\n",
      "Ingrese un numero entero\n",
      "Ingrese un numero entero\n",
      "Ingrese un numero entero\n",
      "Ingrese un numero entero\n",
      "Ingrese un numero entero\n",
      "Ingrese un numero entero\n",
      "Ingrese un numero entero\n",
      "Ingrese un numero entero\n",
      "Ingrese un numero entero\n",
      "Positivos: 10\n",
      "Negativos: 0\n",
      "Pares: 4\n",
      "Impares: 6\n"
     ]
    }
   ],
   "source": [
    "#Ejercicio 8\n",
    "positivos = 0\n",
    "negativos = 0 \n",
    "pares = 0\n",
    "impares = 0\n",
    "for x in range(100):\n",
    "    numeroIngresado = int(input(print(\"Ingrese un numero entero\")))\n",
    "    if numeroIngresado > 0:\n",
    "        positivos += 1\n",
    "    elif numeroIngresado < 0:\n",
    "        negativos += 1\n",
    "    if numeroIngresado % 2 == 0:\n",
    "        pares += 1\n",
    "    else:\n",
    "        impares += 1\n",
    "print(f\"Positivos: {positivos}\")\n",
    "print(f\"Negativos: {negativos}\")\n",
    "print(f\"Pares: {pares}\")\n",
    "print(f\"Impares: {impares}\")\n"
   ]
  },
  {
   "cell_type": "code",
   "execution_count": 14,
   "metadata": {},
   "outputs": [
    {
     "name": "stdout",
     "output_type": "stream",
     "text": [
      "Ingrese un numero entero\n",
      "Ingrese un numero entero\n",
      "Ingrese un numero entero\n",
      "Ingrese un numero entero\n",
      "Ingrese un numero entero\n",
      "Ingrese un numero entero\n",
      "Ingrese un numero entero\n",
      "Ingrese un numero entero\n",
      "Ingrese un numero entero\n",
      "Ingrese un numero entero\n",
      "La media es: 5.5\n"
     ]
    }
   ],
   "source": [
    "#EJercicio 9\n",
    "suma = 0\n",
    "cantidad = 10\n",
    "for i in range(cantidad):\n",
    "    suma += int(input(print(\"Ingrese un numero entero\")))\n",
    "print(f\"La media es: {suma / cantidad}\")"
   ]
  },
  {
   "cell_type": "code",
   "execution_count": 17,
   "metadata": {},
   "outputs": [
    {
     "name": "stdout",
     "output_type": "stream",
     "text": [
      "Ingrese un numero\n",
      "654321321\n"
     ]
    }
   ],
   "source": [
    "# Ejercicio 10\n",
    "numero = input(print(\"Ingrese un numero\"))\n",
    "numeroInvertido = \"\"\n",
    "for digito in numero:\n",
    "    numeroInvertido = digito + numeroInvertido\n",
    "print(numeroInvertido)"
   ]
  }
 ],
 "metadata": {
  "kernelspec": {
   "display_name": "Python 3",
   "language": "python",
   "name": "python3"
  },
  "language_info": {
   "codemirror_mode": {
    "name": "ipython",
    "version": 3
   },
   "file_extension": ".py",
   "mimetype": "text/x-python",
   "name": "python",
   "nbconvert_exporter": "python",
   "pygments_lexer": "ipython3",
   "version": "3.13.2"
  }
 },
 "nbformat": 4,
 "nbformat_minor": 2
}
