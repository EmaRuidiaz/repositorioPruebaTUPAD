{
 "cells": [
  {
   "cell_type": "markdown",
   "metadata": {},
   "source": [
    "# Práctico 3: Estructuras condicionales"
   ]
  },
  {
   "cell_type": "code",
   "execution_count": 1,
   "metadata": {},
   "outputs": [
    {
     "name": "stdout",
     "output_type": "stream",
     "text": [
      "Eres mayor de edad\n"
     ]
    }
   ],
   "source": [
    "#Ejercicio 1\n",
    "edad = int(input(\"Ingrese su edad\"))\n",
    "if edad >= 18:\n",
    "    print(\"Eres mayor de edad\")"
   ]
  },
  {
   "cell_type": "code",
   "execution_count": null,
   "metadata": {},
   "outputs": [],
   "source": [
    "#Ejercicio 2\n",
    "nota = float(input(\"Ingrese su calificación\"))\n",
    "if nota >= 6:\n",
    "    print(\"Aprobado\")\n",
    "else:\n",
    "    print(\"Desaprobado\")"
   ]
  },
  {
   "cell_type": "code",
   "execution_count": 11,
   "metadata": {},
   "outputs": [
    {
     "name": "stdout",
     "output_type": "stream",
     "text": [
      "Ha ingresado un número par\n"
     ]
    }
   ],
   "source": [
    "#Ejercicio 3\n",
    "numero = float(input(\"Ingrese un número\"))\n",
    "if numero % 2 == 0:\n",
    "    print(\"Ha ingresado un número par\")\n",
    "else:\n",
    "    print(\"Por favor, ingrese un número impar\")"
   ]
  },
  {
   "cell_type": "code",
   "execution_count": 10,
   "metadata": {},
   "outputs": [
    {
     "name": "stdout",
     "output_type": "stream",
     "text": [
      "Eres un adolescente\n"
     ]
    }
   ],
   "source": [
    "#Ejercicio 4\n",
    "edad = int(input(\"Ingrese su edad\"))\n",
    "if edad < 12:\n",
    "    print(\"Eres un niño/a\")\n",
    "elif 12 <= edad < 18:\n",
    "    print(\"Eres un adolescente\")\n",
    "elif 18 <= edad < 30:\n",
    "    print(\"Eres un adulto joven\")\n",
    "else:\n",
    "    print(\"Eres un adulto\")"
   ]
  },
  {
   "cell_type": "code",
   "execution_count": 15,
   "metadata": {},
   "outputs": [
    {
     "name": "stdout",
     "output_type": "stream",
     "text": [
      "Por favor, ingrese una contraseña de entre 8 y 14 caracteres\n"
     ]
    }
   ],
   "source": [
    "#Ejercicio 5\n",
    "contraseña = input(\"Ingrese una contraseña\")\n",
    "if 8 <= len(contraseña) <= 14:\n",
    "    print(\"Ha ingresado una contraseña correcta\")\n",
    "else:\n",
    "    print(\"Por favor, ingrese una contraseña de entre 8 y 14 caracteres\")"
   ]
  },
  {
   "cell_type": "code",
   "execution_count": null,
   "metadata": {},
   "outputs": [
    {
     "name": "stdout",
     "output_type": "stream",
     "text": [
      "[87, 49, 21, 29, 58, 76, 16, 11, 38, 51, 50, 99, 1, 38, 60, 24, 81, 9, 38, 31, 27, 76, 81, 21, 7, 46, 37, 27, 48, 90, 4, 59, 36, 23, 21, 45, 42, 43, 15, 98, 34, 75, 12, 31, 42, 36, 54, 70, 81, 60]\n",
      "media:  44.16\n",
      "moda:  21\n",
      "mediana:  40.0\n",
      "Hay sesgo positivo o a la derecha\n"
     ]
    }
   ],
   "source": [
    "#Ejercicio 6\n",
    "import random\n",
    "from statistics import mean, median, mode\n",
    "\n",
    "numeros_aleatorios = [random.randint(1,100) for i in range (50)]\n",
    "media = mean(numeros_aleatorios)\n",
    "moda = mode(numeros_aleatorios)\n",
    "mediana = median(numeros_aleatorios)\n",
    "\n",
    "if media > mediana > moda:\n",
    "    print(\"Hay sesgo positivo o a la derecha\")\n",
    "elif media < mediana < moda:\n",
    "    print(\"Hay sesgo negativo o a la izquierda\")\n",
    "elif media == moda == mediana:\n",
    "    print(\"Sin sesgo\")"
   ]
  },
  {
   "cell_type": "code",
   "execution_count": 85,
   "metadata": {},
   "outputs": [
    {
     "name": "stdout",
     "output_type": "stream",
     "text": [
      "holá!\n"
     ]
    }
   ],
   "source": [
    "#Ejercicio 7\n",
    "palabra = input(\"Ingrese una palabra o frase\")\n",
    "if palabra[-1].lower() in (\"aeiouáéíóú\"):\n",
    "    print(f\"{palabra}!\")\n",
    "else:\n",
    "    print(palabra)"
   ]
  },
  {
   "cell_type": "code",
   "execution_count": 94,
   "metadata": {},
   "outputs": [
    {
     "name": "stdout",
     "output_type": "stream",
     "text": [
      "Prueba\n"
     ]
    }
   ],
   "source": [
    "#Ejercicio 8\n",
    "nombre = input(\"Ingrese su nombre\")\n",
    "op = input(\"Cómo lo quiere? 1.NOMBRE 2.nombre 3.Nombre\")\n",
    "match op:\n",
    "    case \"1\":\n",
    "        print(nombre.upper())\n",
    "    case \"2\":\n",
    "        print(nombre.lower())\n",
    "    case \"3\":\n",
    "        print(nombre.title())\n",
    "    case _:\n",
    "        print(\"Opción no válida\")"
   ]
  },
  {
   "cell_type": "code",
   "execution_count": 99,
   "metadata": {},
   "outputs": [
    {
     "name": "stdout",
     "output_type": "stream",
     "text": [
      "Extremo (puede causar graves daños a gran escala)\n"
     ]
    }
   ],
   "source": [
    "#Ejercicio 9\n",
    "magnitud = int(input(\"Ingrese la magnitud del terremoto en escala Richter\"))\n",
    "if magnitud < 3:\n",
    "    print(\"Muy leve (imperceptible)\")\n",
    "elif 3 <= magnitud < 4:\n",
    "    print(\"Leve (ligeramente perceptible)\")\n",
    "elif 4 <= magnitud < 5:\n",
    "    print(\"Moderado (sentido por personas, pero generalmente no causa daños)\")\n",
    "elif 5 <= magnitud < 6:\n",
    "    print(\"Fuerte (puede causar daños en estructuras débiles)\")\n",
    "elif 6 <= magnitud < 7:\n",
    "    print(\"Muy Fuerte (puede causar daños significativos)\")\n",
    "else:\n",
    "    print(\"Extremo (puede causar graves daños a gran escala)\")"
   ]
  },
  {
   "cell_type": "code",
   "execution_count": null,
   "metadata": {},
   "outputs": [
    {
     "name": "stdout",
     "output_type": "stream",
     "text": [
      "No es un hemisferio\n"
     ]
    }
   ],
   "source": [
    "#Ejercicio 10\n",
    "hemisferio = input(\"En qué hemisferio te encuentras? (N/S): \").strip().upper()\n",
    "if hemisferio in (\"NS\"):\n",
    "    mes = int(input(\"Qué mes del año es? (1-12): \"))\n",
    "    dia = int(input(\"Qué día es? (1-31): \"))\n",
    "\n",
    "if hemisferio == 'N':\n",
    "    if (mes == 12 and dia >= 21) or (mes == 1) or (mes == 2) or (mes == 3 and dia <= 20):\n",
    "        estacion = \"Invierno\"\n",
    "    elif (mes == 3 and dia >= 21) or (mes == 4) or (mes == 5) or (mes == 6 and dia <= 20):\n",
    "        estacion = \"Primavera\"\n",
    "    elif (mes == 6 and dia >= 21) or (mes == 7) or (mes == 8) or (mes == 9 and dia <= 20):\n",
    "        estacion = \"Verano\"\n",
    "    elif (mes == 9 and dia >= 21) or (mes == 10) or (mes == 11) or (mes == 12 and dia <= 20):\n",
    "        estacion = \"Otoño\"\n",
    "elif hemisferio == \"S\":\n",
    "    if (mes == 12 and dia >= 21) or (mes == 1) or (mes == 2) or (mes == 3 and dia <= 20):\n",
    "        estacion = \"Verano\"\n",
    "    elif (mes == 3 and dia >= 21) or (mes == 4) or (mes == 5) or (mes == 6 and dia <= 20):\n",
    "        estacion = \"Otoño\"\n",
    "    elif (mes == 6 and dia >= 21) or (mes == 7) or (mes == 8) or (mes == 9 and dia <= 20):\n",
    "        estacion = \"Invierno\"\n",
    "    elif (mes == 9 and dia >= 21) or (mes == 10) or (mes == 11) or (mes == 12 and dia <= 20):\n",
    "        estacion = \"Primavera\"\n",
    "else:\n",
    "    print(\"No es un hemisferio.\")\n",
    "\n",
    "if hemisferio in (\"NS\"):\n",
    "    print(f\"En el hemisferio {\"SUR\" if hemisferio == \"S\" else \"NORTE\"}, el {dia}/{mes} corresponde a la estación: {estacion}.\")"
   ]
  }
 ],
 "metadata": {
  "kernelspec": {
   "display_name": "Python 3",
   "language": "python",
   "name": "python3"
  },
  "language_info": {
   "codemirror_mode": {
    "name": "ipython",
    "version": 3
   },
   "file_extension": ".py",
   "mimetype": "text/x-python",
   "name": "python",
   "nbconvert_exporter": "python",
   "pygments_lexer": "ipython3",
   "version": "3.13.2"
  }
 },
 "nbformat": 4,
 "nbformat_minor": 2
}
