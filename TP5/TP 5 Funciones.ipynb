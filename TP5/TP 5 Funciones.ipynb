{
 "cells": [
  {
   "cell_type": "markdown",
   "id": "4d46f20f",
   "metadata": {},
   "source": [
    "Práctico 5: Funciones en Python"
   ]
  },
  {
   "cell_type": "code",
   "execution_count": 4,
   "id": "f8585cde",
   "metadata": {},
   "outputs": [
    {
     "name": "stdout",
     "output_type": "stream",
     "text": [
      "Hola Mundo!\n"
     ]
    }
   ],
   "source": [
    "#Ejercicio 1\n",
    "def imprimir_hola_mundo():\n",
    "    print(\"Hola Mundo!\")\n",
    "\n",
    "imprimir_hola_mundo()"
   ]
  },
  {
   "cell_type": "code",
   "execution_count": 8,
   "id": "81bfb13e",
   "metadata": {},
   "outputs": [
    {
     "name": "stdout",
     "output_type": "stream",
     "text": [
      "Hola Ema!\n"
     ]
    }
   ],
   "source": [
    "#Ejercicio 2\n",
    "def saludar_usuario(nombre):\n",
    "    return f\"Hola {nombre}!\"\n",
    "\n",
    "print(saludar_usuario(\"Ema\"))"
   ]
  },
  {
   "cell_type": "code",
   "execution_count": 10,
   "id": "edf8c03b",
   "metadata": {},
   "outputs": [
    {
     "name": "stdout",
     "output_type": "stream",
     "text": [
      "Soy Glenda Lacuadra, tengo 30 años y vivo en Caba\n"
     ]
    }
   ],
   "source": [
    "#Ejercicio 3\n",
    "def informacion_personal(nombre, apellido, edad, residencia):\n",
    "    print(f\"Soy {nombre} {apellido}, tengo {edad} años y vivo en {residencia}\")\n",
    "\n",
    "nombre = input(\"Ingrese nombre: \")\n",
    "apellido = input(\"Ingrese apellido\")\n",
    "edad = input(\"Ingrese edad\")\n",
    "residencia = input(\"Ingrese residencia\")\n",
    "\n",
    "informacion_personal(nombre, apellido, edad, residencia)"
   ]
  },
  {
   "cell_type": "code",
   "execution_count": 11,
   "id": "45b61c7c",
   "metadata": {},
   "outputs": [
    {
     "name": "stdout",
     "output_type": "stream",
     "text": [
      "El área del círculo es: 314.1592653589793\n",
      "El perímetro del círculo es: 62.83185307179586\n"
     ]
    }
   ],
   "source": [
    "#Ejercicio 4\n",
    "import math\n",
    "\n",
    "def calcular_area_circulo(radio):\n",
    "    return math.pi * radio ** 2\n",
    "\n",
    "def calcular_perimetro_circulo(radio):\n",
    "    return 2 * math.pi * radio\n",
    "\n",
    "radio = float(input(\"Ingrese el radio del círculo: \"))\n",
    "\n",
    "print(f\"El área del círculo es: {calcular_area_circulo(radio)}\")\n",
    "print(f\"El perímetro del círculo es: {calcular_perimetro_circulo(radio)}\")"
   ]
  },
  {
   "cell_type": "code",
   "execution_count": 12,
   "id": "ad1a78e7",
   "metadata": {},
   "outputs": [
    {
     "name": "stdout",
     "output_type": "stream",
     "text": [
      "La cantidad de horas es: 65.065\n"
     ]
    }
   ],
   "source": [
    "#Ejercicio 5\n",
    "def segundos_a_horas(segundos):\n",
    "    return segundos / 3600\n",
    "\n",
    "segundos = float(input(\"Ingrese la cantidad de segundos: \"))\n",
    "\n",
    "print(f\"La cantidad de horas es: {segundos_a_horas(segundos)}\")"
   ]
  },
  {
   "cell_type": "code",
   "execution_count": 13,
   "id": "36652969",
   "metadata": {},
   "outputs": [
    {
     "name": "stdout",
     "output_type": "stream",
     "text": [
      "10 x 1 = 10\n",
      "10 x 2 = 20\n",
      "10 x 3 = 30\n",
      "10 x 4 = 40\n",
      "10 x 5 = 50\n",
      "10 x 6 = 60\n",
      "10 x 7 = 70\n",
      "10 x 8 = 80\n",
      "10 x 9 = 90\n",
      "10 x 10 = 100\n"
     ]
    }
   ],
   "source": [
    "#Ejercicio 6\n",
    "def tabla_multiplicar(numero):\n",
    "    for i in range(1, 11):\n",
    "        resultado = numero * i\n",
    "        print(f\"{numero} x {i} = {resultado}\")\n",
    "\n",
    "tabla_multiplicar(int(input(\"Ingrese un número: \")))"
   ]
  },
  {
   "cell_type": "code",
   "execution_count": 14,
   "id": "cf810c75",
   "metadata": {},
   "outputs": [
    {
     "name": "stdout",
     "output_type": "stream",
     "text": [
      "Suma: 3.0\n",
      "Resta: -1.0\n",
      "Multiplicación: 2.0\n",
      "División: 0.5\n"
     ]
    }
   ],
   "source": [
    "#Ejercicio 7\n",
    "def operaciones_basicas(a, b):\n",
    "    suma = a + b\n",
    "    resta = a - b\n",
    "    multiplicacion = a * b\n",
    "    division = a / b if b != 0 else \"No se puede dividir por cero\"\n",
    "    return (suma, resta, multiplicacion, division)\n",
    "\n",
    "\n",
    "a = float(input(\"Ingrese el primer número: \"))\n",
    "b = float(input(\"Ingrese el segundo número: \"))\n",
    "\n",
    "resultados = operaciones_basicas(a, b)\n",
    "\n",
    "print(f\"Suma: {resultados[0]}\")\n",
    "print(f\"Resta: {resultados[1]}\")\n",
    "print(f\"Multiplicación: {resultados[2]}\")\n",
    "print(f\"División: {resultados[3]}\")"
   ]
  },
  {
   "cell_type": "code",
   "execution_count": 16,
   "id": "dcb88b4c",
   "metadata": {},
   "outputs": [
    {
     "name": "stdout",
     "output_type": "stream",
     "text": [
      "Su índice de masa corporal (IMC) es: 37.88\n"
     ]
    }
   ],
   "source": [
    "#Ejercicio 8\n",
    "def calcular_imc(peso, altura):\n",
    "    return peso / (altura ** 2)\n",
    "\n",
    "peso = float(input(\"Ingrese su peso en kilogramos: \"))\n",
    "altura = float(input(\"Ingrese su altura en metros: \"))\n",
    "\n",
    "imc = calcular_imc(peso, altura)\n",
    "\n",
    "print(f\"Su índice de masa corporal (IMC) es: {imc:.2f}\")"
   ]
  },
  {
   "cell_type": "code",
   "execution_count": 17,
   "id": "043730e1",
   "metadata": {},
   "outputs": [
    {
     "name": "stdout",
     "output_type": "stream",
     "text": [
      "La temperatura en Fahrenheit es: 46.4\n"
     ]
    }
   ],
   "source": [
    "#Ejercicio 9\n",
    "def celsius_a_fahrenheit(celsius):\n",
    "    return (celsius * 9/5) + 32\n",
    "\n",
    "celsius = float(input(\"Ingrese la temperatura en grados Celsius: \"))\n",
    "\n",
    "print(f\"La temperatura en Fahrenheit es: {celsius_a_fahrenheit(celsius)}\")"
   ]
  },
  {
   "cell_type": "code",
   "execution_count": null,
   "id": "06b0351c",
   "metadata": {},
   "outputs": [
    {
     "name": "stdout",
     "output_type": "stream",
     "text": [
      "El promedio de los tres números es: 4.333333333333333\n"
     ]
    }
   ],
   "source": [
    "#Ejercicio 10\n",
    "def calcular_promedio(a, b, c):\n",
    "    return (a + b + c) / 3\n",
    "\n",
    "numeros = input(\"Ingrese 3 numeros separados por coma: \")\n",
    "numeros = numeros.split(\",\")\n",
    "\n",
    "promedio = calcular_promedio(int(numeros[0]), int(numeros[1]), int(numeros[2]))\n",
    "print(f\"El promedio de los tres números es: {promedio}\")"
   ]
  }
 ],
 "metadata": {
  "kernelspec": {
   "display_name": "Python 3",
   "language": "python",
   "name": "python3"
  },
  "language_info": {
   "codemirror_mode": {
    "name": "ipython",
    "version": 3
   },
   "file_extension": ".py",
   "mimetype": "text/x-python",
   "name": "python",
   "nbconvert_exporter": "python",
   "pygments_lexer": "ipython3",
   "version": "3.13.2"
  }
 },
 "nbformat": 4,
 "nbformat_minor": 5
}
