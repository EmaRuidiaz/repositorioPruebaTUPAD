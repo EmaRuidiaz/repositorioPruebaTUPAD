{
 "cells": [
  {
   "cell_type": "markdown",
   "id": "c7cfb51c",
   "metadata": {},
   "source": [
    "TRABAJO PRÁCTICO N° 5 - LISTAS"
   ]
  },
  {
   "cell_type": "code",
   "execution_count": 2,
   "id": "374f2f71",
   "metadata": {},
   "outputs": [
    {
     "name": "stdout",
     "output_type": "stream",
     "text": [
      "[4, 8, 12, 16, 20, 24, 28, 32, 36, 40, 44, 48, 52, 56, 60, 64, 68, 72, 76, 80, 84, 88, 92, 96, 100]\n"
     ]
    }
   ],
   "source": [
    "# Ejercicio 1\n",
    "multiplos_de_4 = list(range(4, 101, 4))\n",
    "print(multiplos_de_4)"
   ]
  },
  {
   "cell_type": "code",
   "execution_count": 4,
   "id": "cd488bec",
   "metadata": {},
   "outputs": [
    {
     "name": "stdout",
     "output_type": "stream",
     "text": [
      "-1\n"
     ]
    }
   ],
   "source": [
    "# Ejercicio 2\n",
    "lista_cinco_elementos = [\"Hola\",1,55.6,True,\"Elemento 5\",-1,None]\n",
    "print(lista_cinco_elementos[-2])"
   ]
  },
  {
   "cell_type": "code",
   "execution_count": null,
   "id": "e50ccd7f",
   "metadata": {},
   "outputs": [
    {
     "name": "stdout",
     "output_type": "stream",
     "text": [
      "['Hola', 'mundo', 'Maravilloso']\n"
     ]
    }
   ],
   "source": [
    "# Ejercicio 3\n",
    "lista = []\n",
    "lista.append(\"Hola\")\n",
    "lista.append(\"mundo\")\n",
    "lista.append(\"maravilloso\")\n",
    "print(lista)"
   ]
  },
  {
   "cell_type": "code",
   "execution_count": 7,
   "id": "e20e2912",
   "metadata": {},
   "outputs": [
    {
     "name": "stdout",
     "output_type": "stream",
     "text": [
      "['perro', 'gato', 'conejo', 'pez']\n",
      "['perro', 'loro', 'conejo', 'oso']\n"
     ]
    }
   ],
   "source": [
    "# Ejercicio 4\n",
    "animales = [\"perro\", \"gato\", \"conejo\", \"pez\"]\n",
    "print(animales)\n",
    "animales[1] = \"loro\"\n",
    "animales[-1] = \"oso\"\n",
    "print(animales)"
   ]
  },
  {
   "cell_type": "code",
   "execution_count": null,
   "id": "f5c03b0d",
   "metadata": {},
   "outputs": [
    {
     "name": "stdout",
     "output_type": "stream",
     "text": [
      "[8, 15, 3, 7]\n"
     ]
    }
   ],
   "source": [
    "# Ejercicio 5\n",
    "###\n",
    "# Lo que hace este codigo es obtener el máximo valor de la lista \"numeros\" y luego removerlo de la misma.\n",
    "###\n",
    "numeros = [8,15,3,22,7]\n",
    "numeros.remove(max(numeros))\n",
    "print(numeros)"
   ]
  },
  {
   "cell_type": "code",
   "execution_count": 16,
   "id": "f82bf0bd",
   "metadata": {},
   "outputs": [
    {
     "name": "stdout",
     "output_type": "stream",
     "text": [
      "[10, 15]\n"
     ]
    }
   ],
   "source": [
    "# Ejercicio 6\n",
    "lista = list(range(10,31,5))\n",
    "print(lista[0:2])"
   ]
  },
  {
   "cell_type": "code",
   "execution_count": 18,
   "id": "9e1a090d",
   "metadata": {},
   "outputs": [
    {
     "name": "stdout",
     "output_type": "stream",
     "text": [
      "['sedan', 'cuales', 'quiera', 'gol']\n"
     ]
    }
   ],
   "source": [
    "# Ejercicio 7\n",
    "autos = [\"sedan\", \"polo\", \"suran\", \"gol\"]\n",
    "autos[1:3] = [\"cuales\", \"quiera\"] \n",
    "print(autos)"
   ]
  },
  {
   "cell_type": "code",
   "execution_count": 19,
   "id": "58ec7c69",
   "metadata": {},
   "outputs": [
    {
     "name": "stdout",
     "output_type": "stream",
     "text": [
      "[10, 20, 30]\n"
     ]
    }
   ],
   "source": [
    "# Ejercicio 8\n",
    "dobles = []\n",
    "for i in range(5,16,5):\n",
    "    dobles.append(i*2)\n",
    "print(dobles)"
   ]
  },
  {
   "cell_type": "code",
   "execution_count": 20,
   "id": "46f8741f",
   "metadata": {},
   "outputs": [
    {
     "name": "stdout",
     "output_type": "stream",
     "text": [
      "[['leche'], ['arroz', 'tallarines', 'salsa'], ['agua', 'jugo']]\n"
     ]
    }
   ],
   "source": [
    "# Ejercicio 9\n",
    "compras = [[\"pan\", \"leche\"], [\"arroz\", \"fideos\", \"salsa\"], [\"agua\"]]\n",
    "compras[2].append(\"jugo\")\n",
    "compras[1][1] = \"tallarines\"\n",
    "compras[0].remove(\"pan\")\n",
    "print(compras)"
   ]
  },
  {
   "cell_type": "code",
   "execution_count": 21,
   "id": "b3075ea5",
   "metadata": {},
   "outputs": [
    {
     "name": "stdout",
     "output_type": "stream",
     "text": [
      "[15, True, [25.5, 57.9, 30.6], False]\n"
     ]
    }
   ],
   "source": [
    "# Ejercicio 10\n",
    "lista_anidada = []\n",
    "lista_anidada.append(15)\n",
    "lista_anidada.append(True)\n",
    "lista_anidada.append([25.5])\n",
    "lista_anidada[2].append(57.9)\n",
    "lista_anidada[2].append(30.6)\n",
    "lista_anidada.append(False)\n",
    "print(lista_anidada)"
   ]
  }
 ],
 "metadata": {
  "kernelspec": {
   "display_name": "Python 3",
   "language": "python",
   "name": "python3"
  },
  "language_info": {
   "codemirror_mode": {
    "name": "ipython",
    "version": 3
   },
   "file_extension": ".py",
   "mimetype": "text/x-python",
   "name": "python",
   "nbconvert_exporter": "python",
   "pygments_lexer": "ipython3",
   "version": "3.13.2"
  }
 },
 "nbformat": 4,
 "nbformat_minor": 5
}
